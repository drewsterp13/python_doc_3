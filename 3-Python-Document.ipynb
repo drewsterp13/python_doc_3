{
 "cells": [
  {
   "cell_type": "markdown",
   "metadata": {},
   "source": [
    "# Data Collections 2 (Dictionaries, Sets) and Importing Modules"
   ]
  },
  {
   "cell_type": "markdown",
   "metadata": {},
   "source": [
    "## Tasks Today:\n",
    "\n",
    "1) Dictionary <br>\n",
    " &nbsp;&nbsp;&nbsp;&nbsp; a) Declaring (key, value) <br>\n",
    " &nbsp;&nbsp;&nbsp;&nbsp; b) Accessing Values <br>\n",
    " &nbsp;&nbsp;&nbsp;&nbsp; ------ Exercise #1 - Print the eye color of each person in a double nested dict <br>\n",
    " &nbsp;&nbsp;&nbsp;&nbsp; c) Adding New Pairs <br>\n",
    " &nbsp;&nbsp;&nbsp;&nbsp; d) Modifying Values <br>\n",
    " &nbsp;&nbsp;&nbsp;&nbsp; e) Removing Key, Value Pairs <br>\n",
    " &nbsp;&nbsp;&nbsp;&nbsp; f) Looping a Dictionary <br>\n",
    " &nbsp;&nbsp;&nbsp;&nbsp; g) Looping Only Keys <br>\n",
    " &nbsp;&nbsp;&nbsp;&nbsp; h) Looping Only Values <br>\n",
    " &nbsp;&nbsp;&nbsp;&nbsp; ------ Exercise #2 - Create a Function that Prints All Key Value Pairs within a print .format()  <br>\n",
    " &nbsp;&nbsp;&nbsp;&nbsp; i) sorted() <br>\n",
    " &nbsp;&nbsp;&nbsp;&nbsp; j) Lists with Dictionaries <br>\n",
    " &nbsp;&nbsp;&nbsp;&nbsp; k) Dictionaries with Lists <br>\n",
    " &nbsp;&nbsp;&nbsp;&nbsp; l) Dictionaries with Dictionaries <br>\n",
    " &nbsp;&nbsp;&nbsp;&nbsp; ------ Exercise #3 - Write a Function that asks someone's name and address, and then stores that into a dictionary, which prints all names and addresses after they're done putting information in...  <br>\n",
    "2) Dictionaries vs. Lists (over time)<br>\n",
    "3) Set <br>\n",
    " &nbsp;&nbsp;&nbsp;&nbsp; a) Declaring <br>\n",
    " &nbsp;&nbsp;&nbsp;&nbsp; b) .add() <br>\n",
    " &nbsp;&nbsp;&nbsp;&nbsp; c) .remove() <br>\n",
    " &nbsp;&nbsp;&nbsp;&nbsp; d) .union() <br>\n",
    " &nbsp;&nbsp;&nbsp;&nbsp; e) .intersection() <br>\n",
    " &nbsp;&nbsp;&nbsp;&nbsp; f) .difference() <br>\n",
    " &nbsp;&nbsp;&nbsp;&nbsp; g) Frozen Set <br>\n",
    "4) Modules <br>\n",
    " &nbsp;&nbsp;&nbsp;&nbsp; a) Importing Entire Modules <br>\n",
    " &nbsp;&nbsp;&nbsp;&nbsp; b) Importing Methods Only <br>\n",
    " &nbsp;&nbsp;&nbsp;&nbsp; c) Using the 'as' Keyword <br>\n",
    " &nbsp;&nbsp;&nbsp;&nbsp; d) Creating a Module <br>\n",
    "5) Exercises <br>\n",
    " &nbsp;&nbsp;&nbsp;&nbsp; a) Build a Shopping Cart <br>\n",
    " &nbsp;&nbsp;&nbsp;&nbsp; b) Create Your Own Module <br>"
   ]
  },
  {
   "cell_type": "markdown",
   "metadata": {},
   "source": [
    "## Dictionary <br>\n",
    "<p>A collection of data with 'key:value' pairs. Dictionaries are ordered as of Python 3.6</p>"
   ]
  },
  {
   "cell_type": "markdown",
   "metadata": {},
   "source": [
    "##### Declaring (key, value)"
   ]
  },
  {
   "cell_type": "code",
   "execution_count": 8,
   "metadata": {},
   "outputs": [
    {
     "name": "stdout",
     "output_type": "stream",
     "text": [
      "{'id': 0, 'color': 'gray', 'display_name': 'Stone'}\n",
      "{'id': 1, 'color': 'coyote_brown', 'color_top': 'light_green', 'display_name': 'Grass Block'}\n",
      "{'id': 2, 'color': 'coyote_brown', 'display_name': 'Dirt'}\n"
     ]
    }
   ],
   "source": [
    "stone = {\n",
    "    \"id\": 0,\n",
    "    \"color\": \"gray\",\n",
    "    \"display_name\": \"Stone\"\n",
    "}\n",
    "\n",
    "grass = {\n",
    "    \"id\": 1,\n",
    "    \"color\": \"coyote_brown\",\n",
    "    \"color_top\": \"light_green\",\n",
    "    \"display_name\": \"Grass Block\"\n",
    "}\n",
    "\n",
    "dirt = {\n",
    "    \"id\": 2,\n",
    "    \"color\": \"coyote_brown\",\n",
    "    \"display_name\": \"Dirt\"\n",
    "}\n",
    "\n",
    "print(stone)\n",
    "print(grass)\n",
    "print(dirt)"
   ]
  },
  {
   "cell_type": "markdown",
   "metadata": {},
   "source": [
    "##### Accessing Values"
   ]
  },
  {
   "cell_type": "code",
   "execution_count": 5,
   "metadata": {},
   "outputs": [
    {
     "name": "stdout",
     "output_type": "stream",
     "text": [
      "light_brown\n"
     ]
    }
   ],
   "source": [
    "print(dirt[\"color\"])"
   ]
  },
  {
   "cell_type": "markdown",
   "metadata": {},
   "source": [
    "## In-Class Exercise #1 - Print a formatted statement from the dictionary below <br>\n",
    "<p>The output should be '2018 Chevrolet Silverado'</p>"
   ]
  },
  {
   "cell_type": "code",
   "execution_count": 7,
   "metadata": {},
   "outputs": [
    {
     "name": "stdout",
     "output_type": "stream",
     "text": [
      "2018 Chevrolet Silverado\n"
     ]
    }
   ],
   "source": [
    "# use the dict below\n",
    "truck = {\n",
    "    'year': 2018,\n",
    "    'make': 'Chevrolet',\n",
    "    'model': 'Silverado'\n",
    "}\n",
    "\n",
    "print(f\"{truck['year']} {truck['make']} {truck['model']}\")"
   ]
  },
  {
   "cell_type": "markdown",
   "metadata": {},
   "source": [
    "##### Adding New Pairs"
   ]
  },
  {
   "cell_type": "code",
   "execution_count": 10,
   "metadata": {},
   "outputs": [
    {
     "name": "stdout",
     "output_type": "stream",
     "text": [
      "{'id': 2, 'color': 'coyote_brown', 'display_name': 'Dirt', 'hardness': 0.3}\n"
     ]
    }
   ],
   "source": [
    "dirt[\"hardness\"] = 0.3\n",
    "print(dirt)"
   ]
  },
  {
   "cell_type": "markdown",
   "metadata": {},
   "source": [
    "##### Modifying Values"
   ]
  },
  {
   "cell_type": "code",
   "execution_count": 11,
   "metadata": {},
   "outputs": [
    {
     "name": "stdout",
     "output_type": "stream",
     "text": [
      "{'id': 2, 'color': 'french_beige', 'display_name': 'Dirt', 'hardness': 0.3}\n"
     ]
    }
   ],
   "source": [
    "dirt[\"color\"] = \"french_beige\"\n",
    "print(dirt)"
   ]
  },
  {
   "cell_type": "markdown",
   "metadata": {},
   "source": [
    "##### Removing Key, Value Pairs"
   ]
  },
  {
   "cell_type": "code",
   "execution_count": 13,
   "metadata": {},
   "outputs": [
    {
     "name": "stdout",
     "output_type": "stream",
     "text": [
      "{'color': 'french_beige', 'display_name': 'Dirt', 'hardness': 0.3}\n"
     ]
    }
   ],
   "source": [
    "del dirt[\"id\"]\n",
    "print(dirt)"
   ]
  },
  {
   "cell_type": "markdown",
   "metadata": {},
   "source": [
    "##### Looping a Dictionary"
   ]
  },
  {
   "cell_type": "code",
   "execution_count": 20,
   "metadata": {},
   "outputs": [
    {
     "name": "stdout",
     "output_type": "stream",
     "text": [
      "id: 1\n",
      "color: coyote_brown\n",
      "color_top: light_green\n",
      "display_name: Grass Block\n"
     ]
    }
   ],
   "source": [
    "for key, value in grass.items():\n",
    "    print(f\"{key}: {value}\")"
   ]
  },
  {
   "cell_type": "markdown",
   "metadata": {},
   "source": [
    "##### Looping Only Keys"
   ]
  },
  {
   "cell_type": "code",
   "execution_count": 22,
   "metadata": {},
   "outputs": [
    {
     "name": "stdout",
     "output_type": "stream",
     "text": [
      "color\n",
      "display_name\n",
      "hardness\n"
     ]
    }
   ],
   "source": [
    "# .keys()\n",
    "\n",
    "for key in dirt.keys():\n",
    "    print(key)"
   ]
  },
  {
   "cell_type": "markdown",
   "metadata": {},
   "source": [
    "##### Looping Only Values"
   ]
  },
  {
   "cell_type": "code",
   "execution_count": 23,
   "metadata": {},
   "outputs": [
    {
     "name": "stdout",
     "output_type": "stream",
     "text": [
      "french_beige\n",
      "Dirt\n",
      "0.3\n"
     ]
    }
   ],
   "source": [
    "# .values()\n",
    "\n",
    "for value in dirt.values():\n",
    "    print(value)"
   ]
  },
  {
   "cell_type": "markdown",
   "metadata": {},
   "source": [
    "## In-Class Exercise #2 - Create a Function that Prints All Key Value Pairs within a print .format() <br>\n",
    "<p><b>Output should be:</b><br>\n",
    "Max has blue eyes<br>\n",
    "Lilly has brown eyes<br>\n",
    "Barney has blue eyes<br>\n",
    "etc.\n",
    "</p>"
   ]
  },
  {
   "cell_type": "code",
   "execution_count": 24,
   "metadata": {},
   "outputs": [
    {
     "name": "stdout",
     "output_type": "stream",
     "text": [
      "Max has blue eyes\n",
      "Lilly has brown eyes\n",
      "Barney has blue eyes\n",
      "Larney has brown eyes\n",
      "Ted has purple eyes\n"
     ]
    }
   ],
   "source": [
    "# use the dict below\n",
    "\n",
    "people = {\n",
    "    'Max': 'blue',\n",
    "    'Lilly': 'brown',\n",
    "    'Barney': 'blue',\n",
    "    'Larney': 'brown',\n",
    "    'Ted': 'purple'\n",
    "}\n",
    "\n",
    "#function\n",
    "def displayPoetry():\n",
    "    for key, value in people.items():\n",
    "        print(f\"{key} has {value} eyes\")\n",
    "\n",
    "displayPoetry()"
   ]
  },
  {
   "cell_type": "markdown",
   "metadata": {},
   "source": [
    "##### sorted()"
   ]
  },
  {
   "cell_type": "code",
   "execution_count": 33,
   "metadata": {},
   "outputs": [
    {
     "name": "stdout",
     "output_type": "stream",
     "text": [
      "[('color', 'french_beige'), ('display_name', 'Dirt'), ('hardness', 0.3)]\n",
      "['color', 'display_name', 'hardness']\n",
      "[('Barney', 'blue'), ('Larney', 'brown'), ('Lilly', 'brown'), ('Max', 'blue'), ('Ted', 'purple')]\n",
      "['blue', 'blue', 'brown', 'brown', 'purple']\n",
      "Updated people dict: ['blue', 'blue', 'brown', 'brown', 'purple']\n"
     ]
    }
   ],
   "source": [
    "# sorts variables in order\n",
    "# sorted(dict.values()) or dict.keys() or dict.items()\n",
    "\n",
    "print(sorted(dirt.items()))\n",
    "print(sorted(dirt.keys()))\n",
    "print(sorted(people.items()))\n",
    "print(sorted(people.values()))\n",
    "\n",
    "people_updated = sorted(people.values())\n",
    "\n",
    "print(f\"Updated people dict: {people_updated}\")"
   ]
  },
  {
   "cell_type": "markdown",
   "metadata": {},
   "source": [
    "##### List with Dictionaries"
   ]
  },
  {
   "cell_type": "code",
   "execution_count": 36,
   "metadata": {},
   "outputs": [
    {
     "name": "stdout",
     "output_type": "stream",
     "text": [
      "Barbara\n",
      "random_guy\n",
      "random_girl\n"
     ]
    }
   ],
   "source": [
    "names = [\"Dave\", \"Randy\", \"Greg\", {\"random_guy\" : \"Robert\", \"random_girl\" : \"Barbara\"}]\n",
    "\n",
    "print(names[3][\"random_girl\"])\n",
    "\n",
    "for keys in names[3].keys():\n",
    "    print(keys)"
   ]
  },
  {
   "cell_type": "markdown",
   "metadata": {},
   "source": [
    "##### Dictionaries with Lists"
   ]
  },
  {
   "cell_type": "code",
   "execution_count": 45,
   "metadata": {},
   "outputs": [
    {
     "name": "stdout",
     "output_type": "stream",
     "text": [
      "smith\n",
      "brown\n",
      "thompson\n"
     ]
    }
   ],
   "source": [
    "# be careful when using numbers as keys in dictionaries, don't confuse them with indexes\n",
    "random_dict = {\n",
    "    0: \"Zero\",\n",
    "    3: \"One\",\n",
    "    17: \"Two\",\n",
    "    2: \"Three\"\n",
    "}\n",
    "\n",
    "random_dict[3]\n",
    "\n",
    "random_data = {\n",
    "    \"list1\": [54, 7, 11],\n",
    "    \"2\": [\"smith\", \"brown\", \"thompson\"],\n",
    "}\n",
    "\n",
    "for key in random_data[\"2\"]:\n",
    "    print(key)"
   ]
  },
  {
   "cell_type": "markdown",
   "metadata": {},
   "source": [
    "##### Dictionaries with Dictionaries"
   ]
  },
  {
   "cell_type": "code",
   "execution_count": 53,
   "metadata": {},
   "outputs": [
    {
     "name": "stdout",
     "output_type": "stream",
     "text": [
      "{'color': 'yellow'}\n",
      "{'color': 'white'}\n",
      "{'color': 'red'}\n",
      "{'color': 'yellow'}\n",
      "{'color': 'green'}\n",
      "{'color': 'blue'}\n",
      "{'color': 'black'}\n"
     ]
    }
   ],
   "source": [
    "# to get values, must traverse through keys\n",
    "\n",
    "blocks = {\n",
    "    0: {\n",
    "        \"name\": \"stone\",\n",
    "        \"color\": \"gray_web\",\n",
    "    },\n",
    "    1: {\n",
    "        \"name\": \"grass\",\n",
    "        \"color_top\": \"light_green\",\n",
    "        \"color_rest\": \"french_beige\"\n",
    "    },\n",
    "    2: {\n",
    "        \"name\": \"dirt\",\n",
    "        \"color\": \"french_beige\"\n",
    "    },\n",
    "    3: {\n",
    "        \"name\": \"wool\",\n",
    "        \"varient\": {\n",
    "            0: {\"color\": \"white\"},\n",
    "            1: {\"color\": \"red\"},\n",
    "            2: {\"color\": \"yellow\"},\n",
    "            3: {\"color\": \"green\"},\n",
    "            4: {\"color\": \"blue\"},\n",
    "            5: {\"color\": \"black\"}\n",
    "        }\n",
    "    }\n",
    "}\n",
    "\n",
    "print(blocks[3][\"varient\"][2])\n",
    "\n",
    "for block in blocks[3][\"varient\"].values():\n",
    "    print(block)"
   ]
  },
  {
   "cell_type": "markdown",
   "metadata": {},
   "source": [
    "## Dictionaries vs. Lists (over time) Example of RUNTIME\n",
    "### When inputting values in a Dictionary vs List"
   ]
  },
  {
   "cell_type": "code",
   "execution_count": 54,
   "metadata": {},
   "outputs": [],
   "source": [
    "import time\n",
    "\n",
    "\n",
    "# generate fake dictionary\n",
    "d = {}\n",
    "\n",
    "for i in range(10000000):\n",
    "    d[i] = 'value'\n",
    "    \n",
    "\n",
    "# generate fake list\n",
    "big_list = [x for x in range(10000000)]"
   ]
  },
  {
   "cell_type": "code",
   "execution_count": 55,
   "metadata": {},
   "outputs": [
    {
     "name": "stdout",
     "output_type": "stream",
     "text": [
      "value\n",
      "Elapsed time for dictionary: 0.0009961128234863281\n",
      "9999999\n",
      "Elapsed time for list: 0.6204864978790283\n"
     ]
    }
   ],
   "source": [
    "# tracking time for dictionary\n",
    "start_time = time.time()\n",
    "\n",
    "print(d[9999999])\n",
    "\n",
    "end_time = time.time() - start_time\n",
    "\n",
    "print('Elapsed time for dictionary: {}'.format(end_time))\n",
    "\n",
    "\n",
    "# tracking time for list\n",
    "start_time = time.time()\n",
    "\n",
    "for i in range(len(big_list)):\n",
    "    if i == 9999999:\n",
    "        print(i)\n",
    "\n",
    "end_time = time.time() - start_time\n",
    "\n",
    "print('Elapsed time for list: {}'.format(end_time))"
   ]
  },
  {
   "cell_type": "markdown",
   "metadata": {},
   "source": [
    "## Exercise #3 - Write a Function that asks someone's name and address, and then stores that into a dictionary, and continues to do so until they choose to 'quit'. Once they quit, the program should print all names and addresses. <br>\n",
    "<p>\n",
    "<b>Proper steps:</b><br>\n",
    "step 1: write a function that takes in information and stores it in a dictionary<br>\n",
    "step 2: define an empty dictionary to work with<br>\n",
    "step 3: create our loop, which asks the user for information until they quit<br>\n",
    "step 4: ask for the information, and store it into variables<br>\n",
    "step 5: check if the user types quit<br>\n",
    "step 5a: print out all information<br>\n",
    "step 5b: break out of the loop<br>\n",
    "step 6: if they didn't quit, add the information to the dictionary<br>\n",
    "step 7: invoke the function by calling it\n",
    "</p>"
   ]
  },
  {
   "cell_type": "code",
   "execution_count": 68,
   "metadata": {},
   "outputs": [
    {
     "name": "stdout",
     "output_type": "stream",
     "text": [
      "What is your name? QuIt\n",
      "NAME: Drew, ADDRESS: 112 Cassie Ln\n",
      "NAME: Jared, ADDRESS: 207 Gibbs St\n",
      "NAME: Eirc, ADDRESS: 116 Wood Hills Ln\n"
     ]
    }
   ],
   "source": [
    "from IPython.display import clear_output\n",
    "\n",
    "input_name = \" \"\n",
    "input_address = \" \"\n",
    "\n",
    "#STEP 2:\n",
    "data = {}\n",
    "\n",
    "#STEP 1:\n",
    "def dataStorage(name, address):\n",
    "    data[name] = address\n",
    "\n",
    "#STEP 3:\n",
    "for i in range(1000000):\n",
    "    #STEP 4\n",
    "    input_name = str(input(\"What is your name? \"))\n",
    "    \n",
    "    #STEP 5\n",
    "    if input_name.lower() == \"quit\":\n",
    "        break\n",
    "    clear_output()\n",
    "    \n",
    "    #STEP 4\n",
    "    input_address = str(input(\"What is your address? \"))\n",
    "    clear_output()\n",
    "    \n",
    "    #STEP 5\n",
    "    if input_address.lower() == \"quit\":\n",
    "        break\n",
    "    \n",
    "    #STEP 6\n",
    "    dataStorage(input_name, input_address)\n",
    "    \n",
    "for k, v in data.items():\n",
    "    print(f\"NAME: {k}, ADDRESS: {v}\")"
   ]
  },
  {
   "cell_type": "markdown",
   "metadata": {},
   "source": [
    "## Set <br>\n",
    "<p>A Set is an unordered collection data type that is iterable (loop), mutable, and has no duplicate elements.<br>Major advantage is that it is highly optimized in checking if something is in the set, as opposed to checking if something is in a list.</p>"
   ]
  },
  {
   "cell_type": "markdown",
   "metadata": {},
   "source": [
    "##### Declaring"
   ]
  },
  {
   "cell_type": "code",
   "execution_count": 70,
   "metadata": {},
   "outputs": [
    {
     "name": "stdout",
     "output_type": "stream",
     "text": [
      "{1, 4, 6}\n"
     ]
    }
   ],
   "source": [
    "# set() or {}\n",
    "# no order {3, 2, 1} outputs as {1, 2, 3}\n",
    "nums = {4, 1, 6, 4}\n",
    "\n",
    "print(nums)"
   ]
  },
  {
   "cell_type": "markdown",
   "metadata": {},
   "source": [
    "##### .add()"
   ]
  },
  {
   "cell_type": "code",
   "execution_count": 71,
   "metadata": {},
   "outputs": [
    {
     "name": "stdout",
     "output_type": "stream",
     "text": [
      "{56, 1, 4, 6}\n"
     ]
    }
   ],
   "source": [
    "# set.add()\n",
    "nums.add(56)\n",
    "print(nums)"
   ]
  },
  {
   "cell_type": "markdown",
   "metadata": {},
   "source": [
    "##### .remove()"
   ]
  },
  {
   "cell_type": "code",
   "execution_count": 72,
   "metadata": {},
   "outputs": [
    {
     "name": "stdout",
     "output_type": "stream",
     "text": [
      "{1, 4, 6}\n"
     ]
    }
   ],
   "source": [
    "# removes by value\n",
    "# set.remove()\n",
    "# nums.remove(56)\n",
    "\n",
    "nums.remove(56)\n",
    "\n",
    "print(nums)"
   ]
  },
  {
   "cell_type": "markdown",
   "metadata": {},
   "source": [
    "##### .union() "
   ]
  },
  {
   "cell_type": "code",
   "execution_count": 74,
   "metadata": {},
   "outputs": [
    {
     "name": "stdout",
     "output_type": "stream",
     "text": [
      "{1, 2, 3, 4, 5, 6}\n",
      "{1, 2, 3, 4, 5, 6}\n"
     ]
    }
   ],
   "source": [
    "# Returns a union of two sets, can also use '|' or set.union(set)\n",
    "# joins all numbers, gets rid of duplicates\n",
    "\n",
    "s1 = {1, 2, 3, 4}\n",
    "s2 = {3, 4, 5, 6}\n",
    "\n",
    "s3 = s1.union(s2)\n",
    "\n",
    "print(s3)\n",
    "\n",
    "s4 = s1 | s2\n",
    "print(s4)"
   ]
  },
  {
   "cell_type": "markdown",
   "metadata": {},
   "source": [
    "##### .intersection()"
   ]
  },
  {
   "cell_type": "code",
   "execution_count": 76,
   "metadata": {},
   "outputs": [
    {
     "name": "stdout",
     "output_type": "stream",
     "text": [
      "{3, 4}\n",
      "{3, 4}\n"
     ]
    }
   ],
   "source": [
    "# Returns an intersection of two sets, can also use '&'\n",
    "# only takes similar elements from both sets\n",
    "\n",
    "s5 = s2 & s1\n",
    "print(s5)\n",
    "\n",
    "s6 = s1.intersection(s2)\n",
    "\n",
    "print(s6)"
   ]
  },
  {
   "cell_type": "markdown",
   "metadata": {},
   "source": [
    "##### .difference()"
   ]
  },
  {
   "cell_type": "code",
   "execution_count": 77,
   "metadata": {},
   "outputs": [
    {
     "name": "stdout",
     "output_type": "stream",
     "text": [
      "{1, 2, 3, 4}\n",
      "{3, 4, 5, 6}\n",
      "{5, 6}\n",
      "{1, 2}\n"
     ]
    }
   ],
   "source": [
    "# Returns a set containing all the elements of invoking set that are not in the second set, can also use '-'\n",
    "# only takes values from the first set that are not in the second set\n",
    "# order matters\n",
    "\n",
    "s7 = s2 - s1\n",
    "\n",
    "s8 = s1.difference(s2)\n",
    "\n",
    "print(s1)\n",
    "print(s2)\n",
    "print(s7)\n",
    "print(s8)"
   ]
  },
  {
   "cell_type": "markdown",
   "metadata": {},
   "source": [
    "##### .clear()"
   ]
  },
  {
   "cell_type": "code",
   "execution_count": 78,
   "metadata": {},
   "outputs": [
    {
     "name": "stdout",
     "output_type": "stream",
     "text": [
      "set()\n"
     ]
    }
   ],
   "source": [
    "# Empties the whole set\n",
    "# set.clear()\n",
    "\n",
    "s8.clear()\n",
    "print(s8)"
   ]
  },
  {
   "cell_type": "markdown",
   "metadata": {},
   "source": [
    "##### Frozenset <br>\n",
    "<p>Frozen sets are immutable objects that only support methods and operators that produce a result without affecting the frozen set or sets to which they are applied.</p><br><b>Unique & Immutable</b>"
   ]
  },
  {
   "cell_type": "code",
   "execution_count": 81,
   "metadata": {},
   "outputs": [
    {
     "name": "stdout",
     "output_type": "stream",
     "text": [
      "frozenset({1, 2, 3, 4, 5, 6, 56})\n"
     ]
    }
   ],
   "source": [
    "# frozenset([])\n",
    "s3.add(56)\n",
    "my_frozen_set = frozenset(s3)\n",
    "print(my_frozen_set)"
   ]
  },
  {
   "cell_type": "markdown",
   "metadata": {},
   "source": [
    "## Modules"
   ]
  },
  {
   "cell_type": "markdown",
   "metadata": {},
   "source": [
    "##### Importing Entire Modules"
   ]
  },
  {
   "cell_type": "code",
   "execution_count": 89,
   "metadata": {},
   "outputs": [
    {
     "name": "stdout",
     "output_type": "stream",
     "text": [
      "3.141592653589793\n",
      "3\n",
      "Help on built-in function floor in module math:\n",
      "\n",
      "floor(x, /)\n",
      "    Return the floor of x as an Integral.\n",
      "    \n",
      "    This is the largest integer <= x.\n",
      "\n"
     ]
    }
   ],
   "source": [
    "# import or from 'xxx' import *\n",
    "# import math\n",
    "import math\n",
    "\n",
    "print(pi)\n",
    "print(floor(pi))\n",
    "help(floor)"
   ]
  },
  {
   "cell_type": "markdown",
   "metadata": {},
   "source": [
    "##### Importing Methods Only"
   ]
  },
  {
   "cell_type": "code",
   "execution_count": 90,
   "metadata": {},
   "outputs": [
    {
     "name": "stdout",
     "output_type": "stream",
     "text": [
      "3.141592653589793\n"
     ]
    }
   ],
   "source": [
    "# from 'xxx' import 'xxx'\n",
    "# from math import floor\n",
    "\n",
    "from math import floor, pi\n",
    "\n",
    "print(pi)\n"
   ]
  },
  {
   "cell_type": "markdown",
   "metadata": {},
   "source": [
    "##### Using the 'as' Keyword"
   ]
  },
  {
   "cell_type": "code",
   "execution_count": 91,
   "metadata": {},
   "outputs": [
    {
     "name": "stdout",
     "output_type": "stream",
     "text": [
      "3\n"
     ]
    }
   ],
   "source": [
    "# from 'xxx' import 'xxx' as 'xxx' or import 'xxx' as 'xxx'\n",
    "# from math import floor as f\n",
    "\n",
    "from math import floor as f, pi as p\n",
    "\n",
    "print(f(p))\n"
   ]
  },
  {
   "cell_type": "markdown",
   "metadata": {},
   "source": [
    "##### Creating a Module"
   ]
  },
  {
   "cell_type": "code",
   "execution_count": 94,
   "metadata": {},
   "outputs": [
    {
     "name": "stdout",
     "output_type": "stream",
     "text": [
      "Hello Mr/Ms {name}...we've been waiting for you!\n"
     ]
    }
   ],
   "source": [
    "from module import printName\n",
    "\n",
    "print(module.printName(\"Drew\"))"
   ]
  },
  {
   "cell_type": "markdown",
   "metadata": {},
   "source": [
    "# Exercises"
   ]
  },
  {
   "cell_type": "markdown",
   "metadata": {},
   "source": [
    "### 1) Build a Shopping Cart <br>\n",
    "<p><b>You can use either lists or dictionaries. The program should have the following capabilities:</b><br><br>\n",
    "1) Takes in input <br>\n",
    "2) Stores user input into a dictionary or list <br>\n",
    "3) The User can add or delete items <br>\n",
    "4) The User can see current shopping list <br>\n",
    "5) The program Loops until user 'quits' <br>\n",
    "6) Upon quiting the program, print out all items in the user's list <br>\n",
    "</p>"
   ]
  },
  {
   "cell_type": "code",
   "execution_count": 5,
   "metadata": {
    "scrolled": true
   },
   "outputs": [
    {
     "name": "stdout",
     "output_type": "stream",
     "text": [
      "Welcome to Lind's Local Shop, type in the option below:\n",
      "\n",
      "1 for Add Item \n",
      "2 for Edit Item \n",
      "3 for Delete Item \n",
      "4 for Show Cart \n",
      "quit for Exiting\n",
      "ENTER HERE: add\n",
      "\n",
      "Sorry, wrong input\n",
      "\n",
      "1 for Add Item \n",
      "2 for Edit Item \n",
      "3 for Delete Item \n",
      "4 for Show Cart \n",
      "quit for Exiting\n",
      "ENTER HERE: 1\n",
      "\n",
      "What item do you want to add?\n",
      "ENTER HERE: eggs\n",
      "\n",
      "Enter the amount of the item\n",
      "ENTER HERE: 3\n",
      "\n",
      "ADDED eggs with the price of $34.20\n",
      "\n",
      "1 for Add Item \n",
      "2 for Edit Item \n",
      "3 for Delete Item \n",
      "4 for Show Cart \n",
      "quit for Exiting\n",
      "ENTER HERE: 1\n",
      "\n",
      "What item do you want to add?\n",
      "ENTER HERE: bacon\n",
      "\n",
      "Enter the amount of the item\n",
      "ENTER HERE: 4\n",
      "\n",
      "ADDED bacon with the price of $27.44\n",
      "\n",
      "1 for Add Item \n",
      "2 for Edit Item \n",
      "3 for Delete Item \n",
      "4 for Show Cart \n",
      "quit for Exiting\n",
      "ENTER HERE: 4\n",
      "\n",
      "Here is the cart so far...\n",
      "ITEM: eggs, AMOUNT: 3, PRICE: $34.20\n",
      "ITEM: bacon, AMOUNT: 4, PRICE: $27.44\n",
      "COMBINED PRICE: $61.64\n",
      "\n",
      "1 for Add Item \n",
      "2 for Edit Item \n",
      "3 for Delete Item \n",
      "4 for Show Cart \n",
      "quit for Exiting\n",
      "ENTER HERE: quit\n",
      "\n",
      "Here is your reciept\n",
      "ITEM: eggs, AMOUNT: 3, PRICE: $34.20\n",
      "ITEM: bacon, AMOUNT: 4, PRICE: $27.44\n",
      "COMBINED PRICE: $61.64\n",
      "TAX PRICE: $3.70\n",
      "TOTAL PRICE: $65.34\n",
      "\n",
      "Thank you for shopping at Lind's Local Shop\n"
     ]
    }
   ],
   "source": [
    "from IPython.display import clear_output\n",
    "import random\n",
    "\n",
    "# Ask the user four bits of input: Do you want to : Show/Add/Delete or Quit?\n",
    "\n",
    "# There is a cart dictionary where the key is the item and each has a \"value\", which is the \n",
    "# price of the item. An \"amount\", which is the number of that item, and a \"price\", which is the \n",
    "# price of the item when mulitiplied by the number of the item\n",
    "\n",
    "input_item = \" \"\n",
    "input_choice = \" \"\n",
    "input_amount = 1\n",
    "\n",
    "cart = {} #This is the cart\n",
    "\n",
    "def addItem(e, n):\n",
    "    r = random.randrange(99, 1999) / 100 #This randomizes the price\n",
    "    b = r * n #This multiplys the price of the item\n",
    "    cart[e] = {\n",
    "        \"value\": r,\n",
    "        \"amount\": n,\n",
    "        \"price\": b\n",
    "    }\n",
    "    print(\"\\nADDED {} with the price of ${:.2f}\".format(e, b))\n",
    "\n",
    "def changeAmount(e, n):\n",
    "    cart[e][\"amount\"] = n\n",
    "    cart[e][\"price\"] = cart[e][\"value\"] * n\n",
    "    print(\"\\nCHANGED THE AMOUNT OF {} to {} with the price of ${:.2f}\".format(e, n, cart[e][\"price\"]))\n",
    "\n",
    "def deleteItem(e):\n",
    "    del cart[e]\n",
    "    print(f\"\\nREMOVED {e} from the cart\")\n",
    "\n",
    "def showCart():\n",
    "    t = 0\n",
    "    print(\"\\nHere is the cart so far...\")\n",
    "    for n, v in cart.items():\n",
    "        for s, p in v.items():\n",
    "            if s == \"amount\":\n",
    "                c = p\n",
    "            if s == \"price\":\n",
    "                t += p\n",
    "                print(\"ITEM: {}, AMOUNT: {}, PRICE: ${:.2f}\".format(n, c, p))\n",
    "    if cart == {}:\n",
    "        print(\"NOTHING\")\n",
    "    else:\n",
    "        print(\"COMBINED PRICE: ${:.2f}\".format(t))\n",
    "\n",
    "def showReciept():\n",
    "    t = 0\n",
    "    print(\"\\nHere is your reciept\")\n",
    "    for n, v in cart.items(): # This calculates the price adding up the prices\n",
    "        for s, p in v.items():\n",
    "            if s == \"amount\":\n",
    "                c = p\n",
    "            if s == \"price\":\n",
    "                t += p\n",
    "                print(\"ITEM: {}, AMOUNT: {}, PRICE: ${:.2f}\".format(n, c, p))\n",
    "    x = 0.06 * t #This calculate the tax price\n",
    "    dp = x + t #This adds the total with the tax price\n",
    "    if cart == {}:\n",
    "        print(\"NOTHING\")\n",
    "    else:\n",
    "        print(\"COMBINED PRICE: ${:.2f}\".format(t))\n",
    "        print(\"TAX PRICE: ${:.2f}\".format(x))\n",
    "        print(\"TOTAL PRICE: ${:.2f}\".format(dp))\n",
    "    print(\"\\nThank you for shopping at Lind's Local Shop\")\n",
    "\n",
    "print(\"Welcome to Lind's Local Shop, type in the option below:\")\n",
    "while True:\n",
    "    print(\"\\n1 for Add Item \\n2 for Edit Item \\n3 for Delete Item \\n4 for Show Cart \\nquit for Exiting\")\n",
    "    input_choice = input(\"ENTER HERE: \")\n",
    "    clear_output\n",
    "    \n",
    "    if input_choice == \"1\":\n",
    "        print(\"\\nWhat item do you want to add?\")\n",
    "        input_item = input(\"ENTER HERE: \")\n",
    "        print(\"\\nEnter the amount of the item\")\n",
    "        input_amount = int(input(\"ENTER HERE: \"))\n",
    "        if input_amount <= 0:\n",
    "            input_amount = 1\n",
    "            print(\"\\nERROR: You cannot enter amount out of range, it is set as 1\")\n",
    "        addItem(input_item, input_amount)\n",
    "    elif input_choice == \"2\":\n",
    "        print(\"\\nWhat item do you want to edit?\")\n",
    "        input_item = input(\"ENTER HERE: \")\n",
    "        print(\"\\nChange the amount of the item\")\n",
    "        input_amount = int(input(\"ENTER HERE: \"))\n",
    "        if input_amount <= 0:\n",
    "            input_amount = 1\n",
    "            print(\"\\nERROR: You cannot enter amount out of range, it is set as 1\")\n",
    "        changeAmount(input_item, input_amount)\n",
    "    elif input_choice == \"3\":\n",
    "        print(\"\\nWhat item do you want to remove?\")\n",
    "        input_item = input(\"ENTER HERE: \")\n",
    "        deleteItem(input_item)\n",
    "    elif input_choice == \"4\":\n",
    "        showCart()\n",
    "    elif input_choice.lower() == \"quit\":\n",
    "        showReciept()\n",
    "        break\n",
    "    else:\n",
    "        print(\"\\nSorry, wrong input\")"
   ]
  },
  {
   "cell_type": "markdown",
   "metadata": {},
   "source": [
    "#### 2) Create a Module in VS Code and Import It into jupyter notebook <br>\n",
    "<p><b>Module should have the following capabilities:</b><br><br>\n",
    "1) Has a function to calculate the square footage of a house <br>\n",
    "    <b>Reminder of Formula: Length X Width == Area<br>\n",
    "        <hr>\n",
    "2) Has a function to calculate the circumference of a circle <br><br>\n",
    "<b>Program in Jupyter Notebook should take in user input and use imported functions to calculate a circle's circumference or a houses square footage</b>\n",
    "</p>"
   ]
  },
  {
   "cell_type": "code",
   "execution_count": 1,
   "metadata": {},
   "outputs": [
    {
     "name": "stdout",
     "output_type": "stream",
     "text": [
      "Area = 91512sq ft\n",
      "Circumference = 53.40707511102649ft\n"
     ]
    }
   ],
   "source": [
    "from geometry import calculateSquareArea, calculateCircumference\n",
    "\n",
    "calculateSquareArea(248, 369)\n",
    "\n",
    "calculateCircumference(17)"
   ]
  },
  {
   "cell_type": "code",
   "execution_count": null,
   "metadata": {},
   "outputs": [],
   "source": []
  }
 ],
 "metadata": {
  "kernelspec": {
   "display_name": "Python 3 (ipykernel)",
   "language": "python",
   "name": "python3"
  },
  "language_info": {
   "codemirror_mode": {
    "name": "ipython",
    "version": 3
   },
   "file_extension": ".py",
   "mimetype": "text/x-python",
   "name": "python",
   "nbconvert_exporter": "python",
   "pygments_lexer": "ipython3",
   "version": "3.11.5"
  }
 },
 "nbformat": 4,
 "nbformat_minor": 2
}
